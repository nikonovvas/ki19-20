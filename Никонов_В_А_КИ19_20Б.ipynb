{
  "nbformat": 4,
  "nbformat_minor": 0,
  "metadata": {
    "colab": {
      "name": "Никонов В.А КИ19-20Б.ipynb",
      "provenance": [],
      "collapsed_sections": []
    },
    "kernelspec": {
      "name": "python3",
      "display_name": "Python 3"
    }
  },
  "cells": [
    {
      "cell_type": "markdown",
      "metadata": {
        "id": "6x4Dkq4Qqffn"
      },
      "source": [
        "# Никонов Василий Александрович КИ19-20Б"
      ]
    },
    {
      "cell_type": "code",
      "metadata": {
        "colab": {
          "base_uri": "https://localhost:8080/"
        },
        "id": "KJu1KCurq83I",
        "outputId": "29d6cdaf-71fe-4985-c890-d1bf18764b67"
      },
      "source": [
        "#@title Привет Мир\r\n",
        "print(\"Привет Мир\")"
      ],
      "execution_count": 2,
      "outputs": [
        {
          "output_type": "stream",
          "text": [
            "Привет Мир\n"
          ],
          "name": "stdout"
        }
      ]
    }
  ]
}